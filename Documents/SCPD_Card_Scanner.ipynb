{
 "cells": [
  {
   "cell_type": "code",
   "execution_count": null,
   "metadata": {},
   "outputs": [],
   "source": [
    "import cv2\n",
    "\n",
    "cap = cv2.VideoCapture(0)\n",
    "#cv2.VideoCapture(0) means that it will use the first camera attached to the computer\n",
    "\n",
    "key=cv2.waitKey(0)\n",
    "while True:\n",
    "    ret, frame = cap.read()\n",
    "    frame = cv2.flip(frame, 1)       # horizontal flip, change second parameter to 0 (vertical flip)\n",
    "    frame = frame[0:1000, 160:480]   # croping (first parameter are the y axis, second is for the x axis)\n",
    "    \n",
    "cv2.imshow('name_of _window', cap)   \n",
    "\n",
    "key2 = cv2.waitKey(20)\n",
    "if key2 == 27:    #esc is 27\n",
    "    cv2.destroyWindow(\"name_ofwindow\")\n",
    "    break \n",
    "\n"
   ]
  },
  {
   "cell_type": "code",
   "execution_count": null,
   "metadata": {},
   "outputs": [],
   "source": [
    "#This is the image recognition software. \n",
    "#Main objective is to extract the text from the image itself.\n",
    "\n",
    "#First thing to do right now is to display the video capture to the user itself and when a key is pressed, a picture is \n",
    "#taken and then processed through the image processing algorithm.\n",
    "\n",
    "#then the data will then be extracted and the added into a .xlsx file so that it can be opened by microsoft excel"
   ]
  },
  {
   "cell_type": "code",
   "execution_count": null,
   "metadata": {},
   "outputs": [],
   "source": []
  },
  {
   "cell_type": "code",
   "execution_count": null,
   "metadata": {},
   "outputs": [],
   "source": []
  }
 ],
 "metadata": {
  "kernelspec": {
   "display_name": "Python 3",
   "language": "python",
   "name": "python3"
  },
  "language_info": {
   "codemirror_mode": {
    "name": "ipython",
    "version": 3
   },
   "file_extension": ".py",
   "mimetype": "text/x-python",
   "name": "python",
   "nbconvert_exporter": "python",
   "pygments_lexer": "ipython3",
   "version": "3.6.5"
  }
 },
 "nbformat": 4,
 "nbformat_minor": 2
}
